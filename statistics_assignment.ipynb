{
  "nbformat": 4,
  "nbformat_minor": 0,
  "metadata": {
    "colab": {
      "provenance": []
    },
    "kernelspec": {
      "name": "python3",
      "display_name": "Python 3"
    },
    "language_info": {
      "name": "python"
    }
  },
  "cells": [
    {
      "cell_type": "markdown",
      "source": [
        "# statistics  part 2"
      ],
      "metadata": {
        "id": "LilTyZEzMvxN"
      }
    },
    {
      "cell_type": "markdown",
      "source": [
        "\n",
        "1. What is hypothesis testing in statistics?\n",
        "\n",
        "...> It is a statistical method to test assumptions (hypotheses) about a population parameter using sample data.\n",
        "\n",
        "2. What is the null hypothesis, and how does it differ from the alternative hypothesis?\n",
        "\n",
        "...> The null hypothesis (H₀) states no effect or difference; the alternative hypothesis (H₁) states there is an effect or difference.\n",
        "\n",
        "3. What is the significance level in hypothesis testing, and why is it important?\n",
        "\n",
        "...> It is the probability of rejecting the null hypothesis when it is true (denoted by α, usually 0.05). It defines the threshold for statistical significance.\n",
        "\n",
        "4. What does a P-value represent in hypothesis testing?\n",
        "\n",
        "...> It represents the probability of observing results as extreme as the sample result, assuming H₀ is true.\n",
        "\n",
        "5. How do you interpret the P-value in hypothesis testing?\n",
        "\n",
        "...> If the P-value ≤ α, reject H₀. If P-value > α, fail to reject H₀.\n",
        "\n",
        "6. What are Type 1 and Type 2 errors in hypothesis testing?\n",
        "\n",
        "Type I error: Rejecting a true H₀.\n",
        "\n",
        "Type II error: Failing to reject a false H₀.\n",
        "\n",
        "7. What is the difference between a one-tailed and a two-tailed test in hypothesis testing?\n",
        "\n",
        "One-tailed: Tests effect in one direction.\n",
        "\n",
        "Two-tailed: Tests effect in both directions.\n",
        "\n",
        "8. What is the Z-test, and when is it used in hypothesis testing?\n",
        "\n",
        "Z-test is used when population variance is known and sample size is large (n > 30).\n",
        "\n",
        "9. How do you calculate the Z-score, and what does it represent in hypothesis testing?\n",
        "\n",
        "Z = (X̄ - μ) / (σ / √n); it shows how many standard deviations a sample mean is from the population mean.\n",
        "\n",
        "10. What is the T-distribution, and when should it be used instead of the normal distribution?\n",
        "\n",
        "...> Used when sample size is small (n < 30) and population standard deviation is unknown.\n",
        "\n",
        "11. What is the difference between a Z-test and a T-test?\n",
        "\n",
        "Z-test: Known population variance, large sample.\n",
        "\n",
        "T-test: Unknown variance, small sample.\n",
        "\n",
        "12. What is the T-test, and how is it used in hypothesis testing?\n",
        "\n",
        "....> It compares sample means to determine if they come from populations with the same mean.\n",
        "\n",
        "13. What is the relationship between Z-test and T-test in hypothesis testing?\n",
        "\n",
        "....> Both test means, but Z-test is for large samples and known variance; T-test is for small samples and unknown variance.\n",
        "\n",
        "14. What is a confidence interval, and how is it used to interpret statistical results?\n",
        "\n",
        "...> It gives a range of values within which the true population parameter lies with a certain level of confidence (e.g., 95%).\n",
        "\n",
        "15. What is the margin of error, and how does it affect the confidence interval?\n",
        "\n",
        "...> It is the range added/subtracted to the sample statistic to get the confidence interval; larger margin means wider interval.\n",
        "\n",
        "16. How is Bayes' Theorem used in statistics, and what is its significance?\n",
        "\n",
        "....> It updates the probability of a hypothesis based on new evidence; used in decision-making under uncertainty.\n",
        "\n",
        "17. What is the Chi-square distribution, and when is it used?\n",
        "\n",
        "...> It is used for tests of independence and goodness of fit for categorical data.\n",
        "\n",
        "18. What is the Chi-square goodness of fit test, and how is it applied?\n",
        "\n",
        "...> It checks if sample data fits a theoretical distribution by comparing observed and expected frequencies.\n",
        "\n",
        "19. What is the F-distribution, and when is it used in hypothesis testing?\n",
        "\n",
        "...> Used in comparing two variances and in ANOVA tests; always positive and skewed right.\n",
        "\n",
        "20. What is an ANOVA test, and what are its assumptions?\n",
        "\n",
        ".....> It compares means of 3+ groups. Assumes independence, normality, and equal variances.\n",
        "\n",
        "21. What are the different types of ANOVA tests?\n",
        "\n",
        "...>  One-way ANOVA, Two-way ANOVA, and Repeated Measures ANOVA.\n",
        "\n",
        "22. What is the F-test, and how does it relate to hypothesis testing?\n",
        "\n",
        "....> It compares variances between groups; used in ANOVA and regression analysis.\n",
        "\n"
      ],
      "metadata": {
        "id": "dnWfcuImNvji"
      }
    },
    {
      "cell_type": "markdown",
      "source": [
        "# practical question :-"
      ],
      "metadata": {
        "id": "tK1a1AyiT6l8"
      }
    },
    {
      "cell_type": "code",
      "source": [
        "#1. Write a Python program to perform a Z-test for comparing a sample mean to a known population mean and\n",
        "# interpret the results.\n",
        "from scipy import stats\n",
        "sample = [12, 14, 15, 16, 15]\n",
        "pop_mean = 14\n",
        "z_score, p_value = stats.ttest_1samp(sample, pop_mean)\n",
        "print(\"Z-score:\", z_score, \"P-value:\", p_value)"
      ],
      "metadata": {
        "colab": {
          "base_uri": "https://localhost:8080/"
        },
        "id": "gsS3asbUT_Jm",
        "outputId": "1a42dd89-81cc-4910-f119-668657fc8841"
      },
      "execution_count": 1,
      "outputs": [
        {
          "output_type": "stream",
          "name": "stdout",
          "text": [
            "Z-score: 0.5897678246195891 P-value: 0.5870496397870559\n"
          ]
        }
      ]
    },
    {
      "cell_type": "code",
      "source": [
        "#2. Simulate random data to perform hypothesis testing and calculate the corresponding P-value using Python.\n",
        "import numpy as np\n",
        "data = np.random.normal(loc=50, scale=10, size=100)\n",
        "_, p = stats.ttest_1samp(data, 50)\n",
        "print(\"P-value:\", p)"
      ],
      "metadata": {
        "colab": {
          "base_uri": "https://localhost:8080/"
        },
        "id": "m8iM5BZbUyzG",
        "outputId": "7f3f8e24-e1ce-447e-cb8e-889f65b53aca"
      },
      "execution_count": 2,
      "outputs": [
        {
          "output_type": "stream",
          "name": "stdout",
          "text": [
            "P-value: 0.49529252156425907\n"
          ]
        }
      ]
    },
    {
      "cell_type": "code",
      "source": [
        "#3.Implement a one-sample Z-test using Python to compare the sample mean with the population mean.\n",
        "sample_mean = np.mean(sample)\n",
        "z = (sample_mean - pop_mean) / (np.std(sample, ddof=1) / np.sqrt(len(sample)))\n",
        "print(\"Z-test statistic:\", z)"
      ],
      "metadata": {
        "colab": {
          "base_uri": "https://localhost:8080/"
        },
        "id": "FEtXC5a5VCNi",
        "outputId": "b250d354-00ea-4457-8e15-ab50d194613f"
      },
      "execution_count": 3,
      "outputs": [
        {
          "output_type": "stream",
          "name": "stdout",
          "text": [
            "Z-test statistic: 0.5897678246195892\n"
          ]
        }
      ]
    },
    {
      "cell_type": "code",
      "source": [
        "# 4. Perform a two-tailed Z-test using Python and visualize the decision region on a plot.\n",
        "import matplotlib.pyplot as plt\n",
        "z = 2.0\n",
        "x = np.linspace(-4, 4, 100)\n",
        "y = stats.norm.pdf(x)\n",
        "plt.plot(x, y)\n",
        "plt.fill_between(x, y, where=(abs(x) > abs(z)), color='red', alpha=0.5)\n",
        "plt.title(\"Two-Tailed Test\")\n",
        "plt.show()"
      ],
      "metadata": {
        "colab": {
          "base_uri": "https://localhost:8080/",
          "height": 452
        },
        "id": "4cBVD4M5VZyU",
        "outputId": "a5f11b7b-de5d-4562-8367-027caad85579"
      },
      "execution_count": 5,
      "outputs": [
        {
          "output_type": "display_data",
          "data": {
            "text/plain": [
              "<Figure size 640x480 with 1 Axes>"
            ],
            "image/png": "[encoded data removed]"
          },
          "metadata": {}
        }
      ]
    },
    {
      "cell_type": "code",
      "source": [
        "#5.Create a Python function that calculates and visualizes Type 1 and Type 2 errors during hypothesis testing.\n",
        "def type_errors(alpha, beta):\n",
        "    print(\"Type I Error Rate (α):\", alpha)\n",
        "    print(\"Type II Error Rate (β):\", beta)\n",
        "type_errors(0.05, 0.2)"
      ],
      "metadata": {
        "colab": {
          "base_uri": "https://localhost:8080/"
        },
        "id": "O_9ivoIPVr-S",
        "outputId": "14083a40-a2c9-4b59-fb68-d5419d83f5f4"
      },
      "execution_count": 6,
      "outputs": [
        {
          "output_type": "stream",
          "name": "stdout",
          "text": [
            "Type I Error Rate (α): 0.05\n",
            "Type II Error Rate (β): 0.2\n"
          ]
        }
      ]
    },
    {
      "cell_type": "code",
      "source": [
        "#6.Write a Python program to perform an independent T-test and interpret the results.\n",
        "group1 = [23, 21, 19, 24]\n",
        "group2 = [30, 29, 31, 32]\n",
        "t, p = stats.ttest_ind(group1, group2)\n",
        "print(\"T-test:\", t, \"P-value:\", p)"
      ],
      "metadata": {
        "colab": {
          "base_uri": "https://localhost:8080/"
        },
        "id": "vpwCsrQrWR_M",
        "outputId": "89834de8-ccb4-48c4-fe27-508f65540c73"
      },
      "execution_count": 7,
      "outputs": [
        {
          "output_type": "stream",
          "name": "stdout",
          "text": [
            "T-test: -6.8204829258471245 P-value: 0.00048741649461162136\n"
          ]
        }
      ]
    },
    {
      "cell_type": "code",
      "source": [
        "# 7.Perform a paired sample T-test using Python and visualize the comparison results\n",
        "\n",
        "before = [20, 22, 23, 21]\n",
        "after = [25, 26, 24, 27]\n",
        "t, p = stats.ttest_rel(before, after)\n",
        "print(\"Paired T-test:\", t, \"P-value:\", p)"
      ],
      "metadata": {
        "colab": {
          "base_uri": "https://localhost:8080/"
        },
        "id": "TTz9I1onWgfj",
        "outputId": "4c3fa1c2-bc89-4430-8ef7-c732e8d3cb59"
      },
      "execution_count": 8,
      "outputs": [
        {
          "output_type": "stream",
          "name": "stdout",
          "text": [
            "Paired T-test: -3.703280399090206 P-value: 0.034200180396128536\n"
          ]
        }
      ]
    },
    {
      "cell_type": "code",
      "source": [
        "#8.Simulate data and perform both Z-test and T-test, then compare the results using Python.\n",
        "# Z-test: Use previous code\n",
        "# T-test:\n",
        "_, p = stats.ttest_1samp(sample, 14)\n",
        "print(\"T-test P-value:\", p)\n"
      ],
      "metadata": {
        "colab": {
          "base_uri": "https://localhost:8080/"
        },
        "id": "Z5s7EXRyWv0h",
        "outputId": "d2b87633-cc11-4145-8b6d-6d1d882f324f"
      },
      "execution_count": 9,
      "outputs": [
        {
          "output_type": "stream",
          "name": "stdout",
          "text": [
            "T-test P-value: 0.5870496397870559\n"
          ]
        }
      ]
    },
    {
      "cell_type": "code",
      "source": [
        "#9. Write a Python function to calculate the confidence interval for a sample mean and explain its significance.\n",
        "def confidence_interval(data, confidence=0.95):\n",
        "    mean = np.mean(data)\n",
        "    se = stats.sem(data)\n",
        "    h = se * stats.t.ppf((1 + confidence) / 2., len(data)-1)\n",
        "    return mean - h, mean + h\n",
        "print(confidence_interval(sample))"
      ],
      "metadata": {
        "colab": {
          "base_uri": "https://localhost:8080/"
        },
        "id": "uFLPObP4XANb",
        "outputId": "f4c46aab-a386-4bf2-bc00-7f500b384f12"
      },
      "execution_count": 10,
      "outputs": [
        {
          "output_type": "stream",
          "name": "stdout",
          "text": [
            "(np.float64(12.516923311651558), np.float64(16.28307668834844))\n"
          ]
        }
      ]
    },
    {
      "cell_type": "code",
      "source": [
        "#10. Write a Python program to calculate the margin of error for a given confidence level using sample data.\n",
        "def margin_of_error(data, confidence=0.95):\n",
        "    se = stats.sem(data)\n",
        "    return se * stats.t.ppf((1 + confidence) / 2., len(data)-1)\n",
        "print(\"Margin of Error:\", margin_of_error(sample))\n"
      ],
      "metadata": {
        "colab": {
          "base_uri": "https://localhost:8080/"
        },
        "id": "OT9wiPNZXSNJ",
        "outputId": "9e264efe-44a6-4978-98f4-0b11e4365ec5"
      },
      "execution_count": 11,
      "outputs": [
        {
          "output_type": "stream",
          "name": "stdout",
          "text": [
            "Margin of Error: 1.8830766883484416\n"
          ]
        }
      ]
    },
    {
      "cell_type": "code",
      "source": [
        "#11. Implement a Bayesian inference method using Bayes' Theorem in Python and explain the process.\n",
        "def bayes(prior_A, prob_B_given_A, prob_B):\n",
        "    return (prob_B_given_A * prior_A) / prob_B\n",
        "print(\"Bayes' Result:\", bayes(0.3, 0.7, 0.6))"
      ],
      "metadata": {
        "colab": {
          "base_uri": "https://localhost:8080/"
        },
        "id": "k6EC2wb_XkZ5",
        "outputId": "e065fed6-bae8-4397-ddc0-6255c8159721"
      },
      "execution_count": 12,
      "outputs": [
        {
          "output_type": "stream",
          "name": "stdout",
          "text": [
            "Bayes' Result: 0.35\n"
          ]
        }
      ]
    },
    {
      "cell_type": "code",
      "source": [
        "#12. Perform a Chi-square test for independence between two categorical variables in Python.\n",
        "from scipy.stats import chi2_contingency\n",
        "table = [[10, 20], [20, 40]]\n",
        "chi2, p, _, _ = chi2_contingency(table)\n",
        "print(\"Chi-square:\", chi2, \"P-value:\", p)"
      ],
      "metadata": {
        "colab": {
          "base_uri": "https://localhost:8080/"
        },
        "id": "lQQKyav0X1Pe",
        "outputId": "7ceb2bdb-dc3d-44e4-fa8b-f42c049322f6"
      },
      "execution_count": 13,
      "outputs": [
        {
          "output_type": "stream",
          "name": "stdout",
          "text": [
            "Chi-square: 0.0 P-value: 1.0\n"
          ]
        }
      ]
    },
    {
      "cell_type": "code",
      "source": [
        "#13. Write a Python program to calculate the expected frequencies for a Chi-square test based on observed\n",
        "#data.\n",
        "\n",
        "_, _, expected, _ = chi2_contingency(table)\n",
        "print(\"Expected Frequencies:\\n\", expected)"
      ],
      "metadata": {
        "colab": {
          "base_uri": "https://localhost:8080/"
        },
        "id": "gSsIwGVHYGgU",
        "outputId": "afc537f1-615b-4114-d9a0-a847c856e71e"
      },
      "execution_count": 14,
      "outputs": [
        {
          "output_type": "stream",
          "name": "stdout",
          "text": [
            "Expected Frequencies:\n",
            " 1\n"
          ]
        }
      ]
    },
    {
      "cell_type": "code",
      "source": [
        "#14. Perform a goodness-of-fit test using Python to compare the observed data to an expected distribution\n",
        "obs = [16, 18, 16, 14, 12, 12]\n",
        "exp = [16, 16, 16, 16, 16, 8]\n",
        "chi2, p = stats.chisquare(obs, f_exp=exp)\n",
        "print(\"Chi2:\", chi2, \"P-value:\", p)"
      ],
      "metadata": {
        "colab": {
          "base_uri": "https://localhost:8080/"
        },
        "id": "GrLIN-oDYfdL",
        "outputId": "c6226117-121d-4997-e5ef-d256338c2b81"
      },
      "execution_count": 15,
      "outputs": [
        {
          "output_type": "stream",
          "name": "stdout",
          "text": [
            "Chi2: 3.5 P-value: 0.6233876277495822\n"
          ]
        }
      ]
    },
    {
      "cell_type": "code",
      "source": [
        "# 15.Create a Python script to simulate and visualize the Chi-square distribution and discuss its characteristics\n",
        "simulated = np.random.chisquare(df=2, size=1000)\n",
        "plt.hist(simulated, bins=30)\n",
        "plt.title(\"Chi-square Distribution\")\n",
        "plt.show()"
      ],
      "metadata": {
        "colab": {
          "base_uri": "https://localhost:8080/",
          "height": 452
        },
        "id": "9ePLgAB5YuGA",
        "outputId": "d81ed670-f66e-420e-cbf5-e8bd68e2b8c5"
      },
      "execution_count": 16,
      "outputs": [
        {
          "output_type": "display_data",
          "data": {
            "text/plain": [
              "<Figure size 640x480 with 1 Axes>"
            ],
            "image/png": "[encoded data removed]"
          },
          "metadata": {}
        }
      ]
    },
    {
      "cell_type": "code",
      "source": [
        "#16. Implement an F-test using Python to compare the variances of two random samples.\n",
        "data1 = [10, 20, 30]\n",
        "data2 = [12, 25, 31]\n",
        "f = np.var(data1, ddof=1) / np.var(data2, ddof=1)\n",
        "print(\"F-statistic:\", f)"
      ],
      "metadata": {
        "colab": {
          "base_uri": "https://localhost:8080/"
        },
        "id": "qVywPYgXY-BU",
        "outputId": "8327a09a-fb66-4bf6-bee1-cd78927976ec"
      },
      "execution_count": 17,
      "outputs": [
        {
          "output_type": "stream",
          "name": "stdout",
          "text": [
            "F-statistic: 1.0600706713780919\n"
          ]
        }
      ]
    },
    {
      "cell_type": "code",
      "source": [
        "#17 Write a Python program to perform an ANOVA test to compare means between multiple groups and\n",
        "# interpret the results\n",
        "\n",
        "group1 = [14, 15, 16]\n",
        "group2 = [20, 21, 22]\n",
        "group3 = [25, 26, 24]\n",
        "f, p = stats.f_oneway(group1, group2, group3)\n",
        "print(\"ANOVA F-stat:\", f, \"P-value:\", p)"
      ],
      "metadata": {
        "colab": {
          "base_uri": "https://localhost:8080/"
        },
        "id": "RfnKl1YdZOe2",
        "outputId": "ec2c555a-3273-4b44-8f5c-ed84dcd7bd11"
      },
      "execution_count": 18,
      "outputs": [
        {
          "output_type": "stream",
          "name": "stdout",
          "text": [
            "ANOVA F-stat: 76.0 P-value: 5.4762402162912064e-05\n"
          ]
        }
      ]
    },
    {
      "cell_type": "code",
      "source": [
        "#18.Perform a one-way ANOVA test using Python to compare the means of different groups and plot the results\n",
        "from scipy.stats import f_oneway\n",
        "import matplotlib.pyplot as plt\n",
        "import seaborn as sns\n",
        "\n",
        "group1 = [20, 21, 19]\n",
        "group2 = [30, 29, 31]\n",
        "group3 = [25, 27, 26]\n",
        "f_stat, p_val = f_oneway(group1, group2, group3)\n",
        "print(\"F-statistic:\", f_stat, \"P-value:\", p_val)\n",
        "\n",
        "data = group1 + group2 + group3\n",
        "labels = ['G1']*3 + ['G2']*3 + ['G3']*3\n",
        "sns.boxplot(x=labels, y=data)\n",
        "plt.title(\"Group Comparison - One-way ANOVA\")\n",
        "plt.show()"
      ],
      "metadata": {
        "colab": {
          "base_uri": "https://localhost:8080/",
          "height": 469
        },
        "id": "UwkV-jvbZesU",
        "outputId": "b18ce670-9944-4b5a-8e91-88e529b6cd47"
      },
      "execution_count": 19,
      "outputs": [
        {
          "output_type": "stream",
          "name": "stdout",
          "text": [
            "F-statistic: 76.00000000000038 P-value: 5.476240216291126e-05\n"
          ]
        },
        {
          "output_type": "display_data",
          "data": {
            "text/plain": [
              "<Figure size 640x480 with 1 Axes>"
            ],
            "image/png": "[encoded data removed]"
          },
          "metadata": {}
        }
      ]
    },
    {
      "cell_type": "code",
      "source": [
        "#19. Write a Python function to check the assumptions (normality, independence, and equal variance) for ANOVAD\n",
        "import scipy.stats as stats\n",
        "import numpy as np\n",
        "\n",
        "# Normality test\n",
        "print(stats.shapiro(group1))\n",
        "print(stats.shapiro(group2))\n",
        "print(stats.shapiro(group3))\n",
        "\n",
        "# Equal variance test\n",
        "print(stats.levene(group1, group2, group3))"
      ],
      "metadata": {
        "colab": {
          "base_uri": "https://localhost:8080/"
        },
        "id": "Uo_IfLKqbWFR",
        "outputId": "2c7ddf67-d1c3-4420-9b2f-3fb62d202443"
      },
      "execution_count": 20,
      "outputs": [
        {
          "output_type": "stream",
          "name": "stdout",
          "text": [
            "ShapiroResult(statistic=np.float64(1.0), pvalue=np.float64(1.0))\n",
            "ShapiroResult(statistic=np.float64(1.0), pvalue=np.float64(1.0))\n",
            "ShapiroResult(statistic=np.float64(1.0), pvalue=np.float64(1.0))\n",
            "LeveneResult(statistic=np.float64(0.0), pvalue=np.float64(1.0))\n"
          ]
        }
      ]
    },
    {
      "cell_type": "code",
      "source": [
        "#20 Perform a two-way ANOVA test using Python to study the interaction between two factors and visualize the\n",
        "#results.\n",
        "import pandas as pd\n",
        "import statsmodels.api as sm\n",
        "from statsmodels.formula.api import ols\n",
        "\n",
        "df = pd.DataFrame({\n",
        "    'Score': [23, 25, 22, 30, 28, 29, 33, 32, 31],\n",
        "    'Gender': ['M', 'M', 'M', 'F', 'F', 'F', 'M', 'M', 'M'],\n",
        "    'Method': ['A', 'A', 'B', 'A', 'A', 'B', 'B', 'B', 'B']\n",
        "})\n",
        "model = ols('Score ~ C(Gender) + C(Method) + C(Gender):C(Method)', data=df).fit()\n",
        "anova_table = sm.stats.anova_lm(model, typ=2)\n",
        "print(anova_table)"
      ],
      "metadata": {
        "colab": {
          "base_uri": "https://localhost:8080/"
        },
        "id": "_qj9BgohblVv",
        "outputId": "97a045d5-647a-44f4-f4c5-8595bc505d9d"
      },
      "execution_count": 21,
      "outputs": [
        {
          "output_type": "stream",
          "name": "stdout",
          "text": [
            "                        sum_sq   df         F    PR(>F)\n",
            "C(Gender)            11.755556  1.0  0.725652  0.433192\n",
            "C(Method)            26.888889  1.0  1.659808  0.254023\n",
            "C(Gender):C(Method)  13.444444  1.0  0.829904  0.404080\n",
            "Residual             81.000000  5.0       NaN       NaN\n"
          ]
        }
      ]
    },
    {
      "cell_type": "code",
      "source": [
        "#21 Write a Python program to visualize the F-distribution and discuss its use in hypothesis testing\n",
        "import numpy as np\n",
        "import matplotlib.pyplot as plt\n",
        "x = np.linspace(0.01, 5, 1000)\n",
        "y = stats.f.pdf(x, dfn=5, dfd=10)\n",
        "plt.plot(x, y)\n",
        "plt.title(\"F-distribution\")\n",
        "plt.xlabel(\"F value\")\n",
        "plt.ylabel(\"Density\")\n",
        "plt.show()\n"
      ],
      "metadata": {
        "colab": {
          "base_uri": "https://localhost:8080/",
          "height": 472
        },
        "id": "0FnNcM2yb5F_",
        "outputId": "c795c71f-cf34-4331-e6d2-5abe3e038465"
      },
      "execution_count": 22,
      "outputs": [
        {
          "output_type": "display_data",
          "data": {
            "text/plain": [
              "<Figure size 640x480 with 1 Axes>"
            ],
            "image/png": "[encoded data removed]"
          },
          "metadata": {}
        }
      ]
    },
    {
      "cell_type": "code",
      "source": [
        "#23. Simulate random data from a normal distribution, then perform hypothesis testing to evaluate the means\n",
        "data = np.random.normal(loc=50, scale=5, size=100)\n",
        "t_stat, p = stats.ttest_1samp(data, 50)\n",
        "print(\"T-test statistic:\", t_stat, \"P-value:\", p)"
      ],
      "metadata": {
        "colab": {
          "base_uri": "https://localhost:8080/"
        },
        "id": "ypebamDCcnuw",
        "outputId": "b8dcddd1-f0ce-4dc2-a9a0-7fa260b4f517"
      },
      "execution_count": 23,
      "outputs": [
        {
          "output_type": "stream",
          "name": "stdout",
          "text": [
            "T-test statistic: 0.74367196860956 P-value: 0.45883628969934853\n"
          ]
        }
      ]
    },
    {
      "cell_type": "code",
      "source": [
        "# 24.Perform a hypothesis test for population variance using a Chi-square distribution and interpret the results\n",
        "def variance_test(data, var0):\n",
        "    n = len(data)\n",
        "    sample_var = np.var(data, ddof=1)\n",
        "    chi2 = (n - 1) * sample_var / var0\n",
        "    p = 1 - stats.chi2.cdf(chi2, df=n-1)\n",
        "    return chi2, p\n",
        "\n",
        "print(variance_test(data, var0=25))"
      ],
      "metadata": {
        "colab": {
          "base_uri": "https://localhost:8080/"
        },
        "id": "ZdA0kqQtc1qE",
        "outputId": "e4dd6c92-afcf-4277-f735-889e6c0aa94d"
      },
      "execution_count": 24,
      "outputs": [
        {
          "output_type": "stream",
          "name": "stdout",
          "text": [
            "(np.float64(86.79838223086182), np.float64(0.8044579586137327))\n"
          ]
        }
      ]
    },
    {
      "cell_type": "code",
      "source": [
        "# 25.Write a Python script to perform a Z-test for comparing proportions between two datasets or groups\n",
        "p1 = 0.6\n",
        "p2 = 0.5\n",
        "n1 = 100\n",
        "n2 = 100\n",
        "p_pool = (p1*n1 + p2*n2) / (n1 + n2)\n",
        "z = (p1 - p2) / np.sqrt(p_pool*(1 - p_pool)*(1/n1 + 1/n2))\n",
        "print(\"Z-statistic:\", z)\n"
      ],
      "metadata": {
        "colab": {
          "base_uri": "https://localhost:8080/"
        },
        "id": "1FzBDPCbdCog",
        "outputId": "1a4eb54f-2f63-4da7-c4e7-cdfc4dcdf8d5"
      },
      "execution_count": 25,
      "outputs": [
        {
          "output_type": "stream",
          "name": "stdout",
          "text": [
            "Z-statistic: 1.4213381090374024\n"
          ]
        }
      ]
    },
    {
      "cell_type": "code",
      "source": [
        "#26.implement an F-test for comparing the variances of two datasets, then interpret and visualize the results\n",
        "var1 = np.var(group1, ddof=1)\n",
        "var2 = np.var(group2, ddof=1)\n",
        "f = var1 / var2\n",
        "print(\"F-value:\", f)"
      ],
      "metadata": {
        "colab": {
          "base_uri": "https://localhost:8080/"
        },
        "id": "6BqCwsDOdaFb",
        "outputId": "8e74f36e-4345-4df6-aa39-3f5783432e74"
      },
      "execution_count": 26,
      "outputs": [
        {
          "output_type": "stream",
          "name": "stdout",
          "text": [
            "F-value: 1.0\n"
          ]
        }
      ]
    },
    {
      "cell_type": "code",
      "source": [
        "# 27.Perform a Chi-square test for goodness of fit with simulated data and analyze the results.\n",
        "obs = [18, 22, 20]\n",
        "exp = [20, 20, 20]\n",
        "chi2, p = stats.chisquare(obs, f_exp=exp)\n",
        "print(\"Chi2:\", chi2, \"P-value:\", p)"
      ],
      "metadata": {
        "colab": {
          "base_uri": "https://localhost:8080/"
        },
        "id": "-VUpD4Midrdr",
        "outputId": "25b4dd3f-e05d-47e3-d995-03026d157b52"
      },
      "execution_count": 27,
      "outputs": [
        {
          "output_type": "stream",
          "name": "stdout",
          "text": [
            "Chi2: 0.4 P-value: 0.8187307530779818\n"
          ]
        }
      ]
    }
  ]
}